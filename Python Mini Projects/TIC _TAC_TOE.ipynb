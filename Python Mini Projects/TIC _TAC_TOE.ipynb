{
 "cells": [
  {
   "cell_type": "code",
   "execution_count": 1,
   "id": "9eeca0e8-12b1-49dc-af43-18904180d90e",
   "metadata": {},
   "outputs": [],
   "source": [
    "from IPython.display import clear_output\n",
    "def display_board(board):\n",
    "    clear_output()\n",
    "    print(\"      \"+\" |\"+\"      \"+\" |\"+\"      \")\n",
    "    print(\" \"+board[7]+\"     \"+\"|\"+\" \"+\" \"+board[8]+\"    \"+\"|\"+\" \"+\" \"+board[9])\n",
    "    print(\"      \"+\" |\"+\"      \"+\" |\"+\"      \")\n",
    "    print(\"------\"+\" |\"+\"------\"+\" |\"+\"------\")\n",
    "    print(\"      \"+\" |\"+\"      \"+\" |\"+\"      \")\n",
    "    print(\" \"+board[4]+\"     \"+\"|\"+\" \"+\" \"+board[5]+\"    \"+\"|\"+\" \"+\" \"+board[6])\n",
    "    print(\"      \"+\" |\"+\"      \"+\" |\"+\"      \")\n",
    "    print(\"------\"+\" |\"+\"------\"+\" |\"+\"------\")\n",
    "    print(\"      \"+\" |\"+\"      \"+\" |\"+\"      \")\n",
    "    print(\" \"+board[1]+\"     \"+\"|\"+\" \"+\" \"+board[2]+\"    \"+\"|\"+\" \"+\" \"+board[3])\n",
    "    print(\"      \"+\" |\"+\"      \"+\" |\"+\"      \")\n",
    "    \n"
   ]
  },
  {
   "cell_type": "code",
   "execution_count": 2,
   "id": "bc9aa701-7ce9-4fcd-bf5b-adc1b7f31d13",
   "metadata": {},
   "outputs": [],
   "source": [
    "def player_input():\n",
    "    marker=''\n",
    "    while marker != \"X\" and marker != \"O\":\n",
    "        marker=input(\"Player 1 choose X or O: \")\n",
    "        \n",
    "    player1 = marker\n",
    "    if player1==\"X\":\n",
    "        player2=\"O\"\n",
    "    else:\n",
    "        player2=\"X\"\n",
    "    return (player1,player2) "
   ]
  },
  {
   "cell_type": "code",
   "execution_count": 3,
   "id": "6e4b5f3d-3dc8-4243-939d-93a683e6af3e",
   "metadata": {},
   "outputs": [],
   "source": [
    "import random\n",
    "\n",
    "def choose_first():\n",
    "    return \"Player 1\" if random.randint(0, 1) == 0 else \"Player 2\"\n"
   ]
  },
  {
   "cell_type": "code",
   "execution_count": 4,
   "id": "e19f5ead-b01a-4ca0-a200-4f6faa45dfa6",
   "metadata": {},
   "outputs": [],
   "source": [
    "def player_choice(board):\n",
    "    while True:\n",
    "        position = input(\"Choose a number from (1-9): \")\n",
    "        if position in [str(num) for num in range(1, 10)]:\n",
    "            return int(position)\n",
    "        else:\n",
    "            clear_output()\n",
    "            print(\"Invalid input. Please enter a number between 1 and 9.\")"
   ]
  },
  {
   "cell_type": "code",
   "execution_count": 5,
   "id": "05fc2c3c-aed5-4d46-828e-f9f5dbf1d2a3",
   "metadata": {},
   "outputs": [],
   "source": [
    "def place_marker(board, marker, position):\n",
    "    if position in range(0,10) and board[position]==\" \":\n",
    "        board[position]=marker\n",
    "    "
   ]
  },
  {
   "cell_type": "code",
   "execution_count": 6,
   "id": "0255e2db-6ce9-4e78-ae72-22e6c0dcf42c",
   "metadata": {},
   "outputs": [],
   "source": [
    "def space_check(board, position):\n",
    "    if board[position]==\" \":\n",
    "        print(f\" free position: {position}\")\n",
    "        return True\n",
    "    else:\n",
    "        return False\n"
   ]
  },
  {
   "cell_type": "code",
   "execution_count": 7,
   "id": "c0c3be9f-4d15-4d25-90e3-3535c905b62e",
   "metadata": {},
   "outputs": [],
   "source": [
    "def full_board_check(board):\n",
    "    return \" \" not in board[1:]"
   ]
  },
  {
   "cell_type": "code",
   "execution_count": 8,
   "id": "cde4b394-3b2b-4388-8523-ed55cef02daf",
   "metadata": {},
   "outputs": [],
   "source": [
    "def win_check(board, mark):\n",
    "    \n",
    "    return (\n",
    "        # horizontal\n",
    "        (board[1] == board[2] == board[3] == mark) or\n",
    "        (board[4] == board[5] == board[6] == mark) or\n",
    "        (board[7] == board[8] == board[9] == mark) or\n",
    "        # vertical\n",
    "        (board[1] == board[4] == board[7] == mark) or\n",
    "        (board[2] == board[5] == board[8] == mark) or\n",
    "        (board[3] == board[6] == board[9] == mark) or\n",
    "        # diagonals\n",
    "        (board[1] == board[5] == board[9] == mark) or\n",
    "        (board[3] == board[5] == board[7] == mark)\n",
    "    )\n",
    "    \n"
   ]
  },
  {
   "cell_type": "code",
   "execution_count": 9,
   "id": "9786d54c-f905-4a9f-926e-1f39270ea66a",
   "metadata": {},
   "outputs": [],
   "source": [
    "from IPython.display import clear_output\n",
    "def replay():\n",
    "    choice=\" \"\n",
    "    while choice not in [\"Y\",\"N\"]:\n",
    "        choice=input('would you like to keep playing : Y or N').upper()\n",
    "        if choice not in [\"Y\",\"N\"]:\n",
    "            clear_output()\n",
    "            print('you are not providing correct input')\n",
    "    \n",
    "    return choice==\"Y\""
   ]
  },
  {
   "cell_type": "code",
   "execution_count": null,
   "id": "03ae1288-14c0-4028-b96c-32612e254819",
   "metadata": {
    "scrolled": true
   },
   "outputs": [
    {
     "name": "stdout",
     "output_type": "stream",
     "text": [
      "       |       |      \n",
      "       |       |   \n",
      "       |       |      \n",
      "------ |------ |------\n",
      "       |       |      \n",
      "       |       |   \n",
      "       |       |      \n",
      "------ |------ |------\n",
      "       |       |      \n",
      "       |       |   \n",
      "       |       |      \n"
     ]
    }
   ],
   "source": [
    "from IPython.display import clear_output\n",
    "\n",
    "def play_game():\n",
    "    print(\"Welcome to Tic Tac Toe!\")\n",
    "\n",
    "    while True:\n",
    "        board = [' '] * 10\n",
    "        player1_marker, player2_marker = player_input()\n",
    "        turn = choose_first()\n",
    "        print(f\"{turn} will go first.\")\n",
    "        input(\"Press Enter to start the game...\")\n",
    "\n",
    "        game_on=True\n",
    "        while game_on:\n",
    "\n",
    "            if \"player 1\" in turn:\n",
    "                if full_board_check(board):\n",
    "                    display_board(board)\n",
    "                    print(\"It's a Tie!\")\n",
    "                    game_on = False\n",
    "                    continue\n",
    "                display_board(board)\n",
    "                position=player_choice(board)\n",
    "                while not space_check(board,position):\n",
    "                    print(\"That space is already taken choose different space \")\n",
    "                    position=player_choice(board)\n",
    "                \n",
    "                place_marker(board,player1_marker,position)\n",
    "                if win_check(board,player1_marker):\n",
    "                    display_board(board)\n",
    "                    print(\"Player 1 wins\")\n",
    "                    game_on=False\n",
    "                elif full_board_check(board):\n",
    "                    display_board(board)\n",
    "                    print(\"Its a Tie!!!\")\n",
    "                    game_on=False\n",
    "                else:\n",
    "                    turn=\"player 2\"\n",
    "\n",
    "            else:\n",
    "                if full_board_check(board):\n",
    "                    print(\"It's a Tie!\")\n",
    "                    game_on = False\n",
    "                    continue\n",
    "                display_board(board)\n",
    "                position=player_choice(board)\n",
    "                while not space_check(board,position):\n",
    "                    print(\"That space is already taken choose different space \")\n",
    "                    position=player_choice(board)\n",
    "                \n",
    "                place_marker(board,player2_marker,position)\n",
    "                if win_check(board,player2_marker):\n",
    "                    display_board(board)\n",
    "                    print(\"Player 2 wins\")\n",
    "                    game_on=False\n",
    "                elif full_board_check(board):\n",
    "                    display_board(board)\n",
    "                    print(\"Its a Tie!!!\")\n",
    "                    game_on=False\n",
    "                else:\n",
    "                    turn=\"player 1\"\n",
    "\n",
    "        if not replay():\n",
    "            break\n",
    "play_game()"
   ]
  }
 ],
 "metadata": {
  "kernelspec": {
   "display_name": "Python 3 (ipykernel)",
   "language": "python",
   "name": "python3"
  },
  "language_info": {
   "codemirror_mode": {
    "name": "ipython",
    "version": 3
   },
   "file_extension": ".py",
   "mimetype": "text/x-python",
   "name": "python",
   "nbconvert_exporter": "python",
   "pygments_lexer": "ipython3",
   "version": "3.12.7"
  }
 },
 "nbformat": 4,
 "nbformat_minor": 5
}
