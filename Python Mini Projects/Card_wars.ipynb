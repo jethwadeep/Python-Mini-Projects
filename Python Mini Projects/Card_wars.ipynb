{
 "cells": [
  {
   "cell_type": "code",
   "execution_count": 296,
   "id": "8baa0c01-0874-48b8-9731-020d5609fcf8",
   "metadata": {},
   "outputs": [],
   "source": [
    "suits = ('Hearts', 'Diamonds', 'Spades', 'Clubs')\n",
    "ranks = ('Two', 'Three', 'Four', 'Five', 'Six', 'Seven', 'Eight', 'Nine', 'Ten', 'Jack', 'Queen', 'King', 'Ace')\n",
    "values = {'Two':2, 'Three':3, 'Four':4, 'Five':5, 'Six':6, 'Seven':7, 'Eight':8, \n",
    "            'Nine':9, 'Ten':10, 'Jack':11, 'Queen':12, 'King':13, 'Ace':14}\n",
    "class Card:\n",
    "    def __init__(self,suit,rank):\n",
    "        self.suit=suit\n",
    "        self.rank=rank\n",
    "        self.values=values[rank]\n",
    "\n",
    "    def __str__(self):\n",
    "        return self.rank +\" of \"+ self.suit\n",
    "        "
   ]
  },
  {
   "cell_type": "code",
   "execution_count": 297,
   "id": "e683ec99-a81a-4e0b-8aa2-fdf5cae1ab96",
   "metadata": {},
   "outputs": [],
   "source": [
    "two_heart=Card(\"hearts\",\"Two\")\n",
    "three_clubs=Card(\"clubs\",\"Three\")"
   ]
  },
  {
   "cell_type": "code",
   "execution_count": 298,
   "id": "66fe9513-5846-4df2-b1c9-0a829e8bbd12",
   "metadata": {},
   "outputs": [
    {
     "data": {
      "text/plain": [
       "<__main__.Card at 0x15fe3f06f30>"
      ]
     },
     "execution_count": 298,
     "metadata": {},
     "output_type": "execute_result"
    }
   ],
   "source": [
    "\n",
    "three_clubs"
   ]
  },
  {
   "cell_type": "code",
   "execution_count": 299,
   "id": "38e52811-33d5-4b73-a799-c05adf407d85",
   "metadata": {},
   "outputs": [
    {
     "name": "stdout",
     "output_type": "stream",
     "text": [
      "Three of clubs\n"
     ]
    }
   ],
   "source": [
    "print(three_clubs)"
   ]
  },
  {
   "cell_type": "code",
   "execution_count": 300,
   "id": "264696a6-3cd3-48e2-88ab-acfa3574ea4e",
   "metadata": {},
   "outputs": [
    {
     "data": {
      "text/plain": [
       "'clubs'"
      ]
     },
     "execution_count": 300,
     "metadata": {},
     "output_type": "execute_result"
    }
   ],
   "source": [
    "three_clubs.suit\n"
   ]
  },
  {
   "cell_type": "code",
   "execution_count": 301,
   "id": "036ef479-0927-4525-b114-3e72dc665322",
   "metadata": {},
   "outputs": [
    {
     "data": {
      "text/plain": [
       "'Three'"
      ]
     },
     "execution_count": 301,
     "metadata": {},
     "output_type": "execute_result"
    }
   ],
   "source": [
    "three_clubs.rank\n"
   ]
  },
  {
   "cell_type": "code",
   "execution_count": 302,
   "id": "ba9760bc-4622-40b3-9f34-54b1166c92d4",
   "metadata": {},
   "outputs": [
    {
     "data": {
      "text/plain": [
       "True"
      ]
     },
     "execution_count": 302,
     "metadata": {},
     "output_type": "execute_result"
    }
   ],
   "source": [
    "two_heart.values < three_clubs.values"
   ]
  },
  {
   "cell_type": "code",
   "execution_count": 303,
   "id": "8d375d5e-784e-484a-bcdd-91acf2439717",
   "metadata": {},
   "outputs": [],
   "source": [
    "import random\n",
    "class Deck:\n",
    "    def __init__(self):\n",
    "        self.all_cards=[]\n",
    "        for suit in suits:\n",
    "            for rank in ranks:\n",
    "                created_class=Card(suit,rank)\n",
    "                self.all_cards.append(created_class)\n",
    "    \n",
    "    \n",
    "    def shuffle(self):\n",
    "        random.shuffle(self.all_cards)\n",
    "\n",
    "    def deal_one(self):\n",
    "        return self.all_cards.pop()"
   ]
  },
  {
   "cell_type": "code",
   "execution_count": 304,
   "id": "25296167-3704-4d02-aa6b-7cf688f1d4e2",
   "metadata": {},
   "outputs": [],
   "source": [
    "new_deck=Deck()"
   ]
  },
  {
   "cell_type": "code",
   "execution_count": 305,
   "id": "6a31f911-d06f-4387-8643-6f4562e1ed51",
   "metadata": {},
   "outputs": [
    {
     "data": {
      "text/plain": [
       "52"
      ]
     },
     "execution_count": 305,
     "metadata": {},
     "output_type": "execute_result"
    }
   ],
   "source": [
    "len(new_deck.all_cards)"
   ]
  },
  {
   "cell_type": "code",
   "execution_count": 306,
   "id": "ccfd2131-6bbb-416f-a404-15c66b4615b8",
   "metadata": {},
   "outputs": [],
   "source": [
    "new_deck.shuffle()"
   ]
  },
  {
   "cell_type": "code",
   "execution_count": 307,
   "id": "4f45c144-1318-4603-9ac2-6b94646e1ce5",
   "metadata": {},
   "outputs": [
    {
     "name": "stdout",
     "output_type": "stream",
     "text": [
      "Jack of Spades\n"
     ]
    }
   ],
   "source": [
    "firstcard=new_deck.all_cards[1]\n",
    "print(firstcard)"
   ]
  },
  {
   "cell_type": "code",
   "execution_count": 308,
   "id": "5a3e3871-f3eb-4253-b615-3686b372f156",
   "metadata": {},
   "outputs": [
    {
     "name": "stdout",
     "output_type": "stream",
     "text": [
      "Five of Spades\n",
      "Jack of Spades\n",
      "Queen of Diamonds\n",
      "King of Diamonds\n",
      "Jack of Hearts\n",
      "Three of Clubs\n",
      "Jack of Clubs\n",
      "Two of Diamonds\n",
      "Ace of Spades\n",
      "Six of Clubs\n",
      "Three of Diamonds\n",
      "Nine of Diamonds\n",
      "King of Spades\n",
      "Ace of Hearts\n",
      "Seven of Clubs\n",
      "Five of Hearts\n",
      "Five of Diamonds\n",
      "Nine of Clubs\n",
      "Five of Clubs\n",
      "Ten of Spades\n",
      "Ten of Hearts\n",
      "Eight of Clubs\n",
      "Three of Spades\n",
      "Four of Clubs\n",
      "Queen of Spades\n",
      "Six of Diamonds\n",
      "Three of Hearts\n",
      "Ten of Diamonds\n",
      "Four of Diamonds\n",
      "Eight of Hearts\n",
      "Two of Hearts\n",
      "Nine of Spades\n",
      "Four of Spades\n",
      "Seven of Spades\n",
      "Two of Spades\n",
      "Seven of Diamonds\n",
      "King of Clubs\n",
      "Seven of Hearts\n",
      "Ace of Diamonds\n",
      "Six of Spades\n",
      "Four of Hearts\n",
      "Ace of Clubs\n",
      "King of Hearts\n",
      "Jack of Diamonds\n",
      "Ten of Clubs\n",
      "Queen of Hearts\n",
      "Queen of Clubs\n",
      "Nine of Hearts\n",
      "Eight of Diamonds\n",
      "Eight of Spades\n",
      "Six of Hearts\n",
      "Two of Clubs\n"
     ]
    }
   ],
   "source": [
    "for card_object in new_deck.all_cards:\n",
    "    print(card_object)"
   ]
  },
  {
   "cell_type": "code",
   "execution_count": 309,
   "id": "7b6428bf-c004-477a-800d-07224f6cf1cb",
   "metadata": {},
   "outputs": [],
   "source": [
    "mycard = new_deck.deal_one()"
   ]
  },
  {
   "cell_type": "code",
   "execution_count": 310,
   "id": "63721b18-6cf9-42ff-a52b-7f9b6616066a",
   "metadata": {},
   "outputs": [
    {
     "name": "stdout",
     "output_type": "stream",
     "text": [
      "Two of Clubs\n"
     ]
    }
   ],
   "source": [
    "print(mycard)\n"
   ]
  },
  {
   "cell_type": "code",
   "execution_count": 311,
   "id": "4e3e045a-3c04-41d5-97f4-86f4c3a5dd85",
   "metadata": {},
   "outputs": [],
   "source": [
    "class Player:\n",
    "    def __init__(self,name):\n",
    "        self.name=name\n",
    "        self.all_cards=[]\n",
    "\n",
    "    def remove_one(self):\n",
    "        return self.all_cards.pop(0)\n",
    "    def add_cards(self,new_cards):\n",
    "        # list of multiple card objects\n",
    "        if type(new_cards)==type([]):\n",
    "            self.all_cards.extend(new_cards)\n",
    "        # list of single card object\n",
    "        else:\n",
    "            self.all_cards.append(new_cards)\n",
    "    def __str__(self):\n",
    "        return f'Player {self.name} has {len(self.all_cards)} cards.'\n",
    "        "
   ]
  },
  {
   "cell_type": "code",
   "execution_count": 312,
   "id": "59412ae6-9d13-42d0-8340-f3c558392ddc",
   "metadata": {},
   "outputs": [],
   "source": [
    "newplayer=Player(\"deep\")"
   ]
  },
  {
   "cell_type": "code",
   "execution_count": 313,
   "id": "32b0861c-e4a2-4c90-9b8a-6fdd9ed6abc0",
   "metadata": {},
   "outputs": [],
   "source": [
    "newplayer.add_cards(mycard)"
   ]
  },
  {
   "cell_type": "code",
   "execution_count": 314,
   "id": "c8958842-c57a-429f-ba86-0626e1819e43",
   "metadata": {},
   "outputs": [
    {
     "name": "stdout",
     "output_type": "stream",
     "text": [
      "Two of Clubs\n"
     ]
    }
   ],
   "source": [
    "print(newplayer.all_cards[0])"
   ]
  },
  {
   "cell_type": "code",
   "execution_count": 315,
   "id": "e78d576c-d75a-40ea-a098-cbc0f9f8348e",
   "metadata": {},
   "outputs": [],
   "source": [
    "newplayer.add_cards([mycard,mycard,mycard])"
   ]
  },
  {
   "cell_type": "code",
   "execution_count": 316,
   "id": "a7b7969f-9fb3-4d59-ab94-1c9e560e3681",
   "metadata": {},
   "outputs": [
    {
     "name": "stdout",
     "output_type": "stream",
     "text": [
      "Player deep has 4 cards.\n"
     ]
    }
   ],
   "source": [
    "print(newplayer)"
   ]
  },
  {
   "cell_type": "code",
   "execution_count": 317,
   "id": "e154dede-6624-4a9d-b59b-4a313f2d00be",
   "metadata": {},
   "outputs": [],
   "source": [
    "# Game setup"
   ]
  },
  {
   "cell_type": "code",
   "execution_count": 318,
   "id": "0c37f684-ea71-41f7-b362-e067b98802d7",
   "metadata": {},
   "outputs": [],
   "source": [
    "player_one=Player(\"One\")\n",
    "player_two=Player(\"Two\")\n",
    "\n",
    "new_deck=Deck()\n",
    "new_deck.shuffle()\n",
    "\n",
    "for x in range(26):\n",
    "    player_one.add_cards(new_deck.deal_one())\n",
    "    player_two.add_cards(new_deck.deal_one())"
   ]
  },
  {
   "cell_type": "code",
   "execution_count": 319,
   "id": "83b87b63-16cb-4d95-9712-24ccc08d2234",
   "metadata": {},
   "outputs": [
    {
     "name": "stdout",
     "output_type": "stream",
     "text": [
      "Five of Spades\n"
     ]
    }
   ],
   "source": [
    "print(player_one.all_cards[0])"
   ]
  },
  {
   "cell_type": "code",
   "execution_count": 320,
   "id": "f7c3e89e-55ae-41ce-b011-ff1af7fdd63a",
   "metadata": {},
   "outputs": [],
   "source": [
    "game_on=True"
   ]
  },
  {
   "cell_type": "code",
   "execution_count": 321,
   "id": "72e91480-a3ba-4402-ba07-60904f60a570",
   "metadata": {},
   "outputs": [
    {
     "name": "stdout",
     "output_type": "stream",
     "text": [
      "rounds : 1\n",
      "rounds : 2\n",
      "WAR!!\n",
      "rounds : 3\n",
      "WAR!!\n",
      "rounds : 4\n",
      "rounds : 5\n",
      "rounds : 6\n",
      "rounds : 7\n",
      "rounds : 8\n",
      "rounds : 9\n",
      "rounds : 10\n",
      "WAR!!\n",
      "WAR!!\n",
      "rounds : 11\n",
      "rounds : 12\n",
      "rounds : 13\n",
      "rounds : 14\n",
      "rounds : 15\n",
      "rounds : 16\n",
      "WAR!!\n",
      "WAR!!\n",
      "rounds : 17\n",
      "rounds : 18\n",
      "rounds : 19\n",
      "rounds : 20\n",
      "rounds : 21\n",
      "rounds : 22\n",
      "rounds : 23\n",
      "rounds : 24\n",
      "rounds : 25\n",
      "rounds : 26\n",
      "rounds : 27\n",
      "rounds : 28\n",
      "rounds : 29\n",
      "rounds : 30\n",
      "rounds : 31\n",
      "rounds : 32\n",
      "rounds : 33\n",
      "rounds : 34\n",
      "rounds : 35\n",
      "rounds : 36\n",
      "rounds : 37\n",
      "WAR!!\n",
      "player one unable to declare war\n",
      "player two WINS\n"
     ]
    }
   ],
   "source": [
    "round_num=0\n",
    "while game_on:\n",
    "    round_num+=1\n",
    "    print(f'rounds : {round_num}')\n",
    "    if len(player_one.all_cards)==0:\n",
    "        print(\"Player One out of the cards Player Two WINS!!!! \")\n",
    "        game_on = False\n",
    "        break\n",
    "\n",
    "    if len(player_two.all_cards)==0:\n",
    "        print(\"Player Two out of the cards Player One WINS!!!! \")\n",
    "        game_on = False\n",
    "        break \n",
    "\n",
    "    player_one_cards=[]\n",
    "    player_one_cards.append(player_one.remove_one())\n",
    "    player_two_cards=[]\n",
    "    player_two_cards.append(player_two.remove_one())\n",
    "\n",
    "\n",
    "\n",
    "    at_war = True\n",
    "    while at_war:\n",
    "        if player_one_cards[-1].values > player_two_cards[-1].values:\n",
    "            player_one.add_cards(player_one_cards)\n",
    "            player_one.add_cards(player_two_cards)\n",
    "            \n",
    "            at_war=False\n",
    "        \n",
    "        elif player_one_cards[-1].values < player_two_cards[-1].values:\n",
    "            player_two.add_cards(player_one_cards)\n",
    "            player_two.add_cards(player_two_cards)\n",
    "            \n",
    "            at_war=False\n",
    "        \n",
    "        else:\n",
    "            print('WAR!!')\n",
    "            if len(player_one.all_cards)<5:\n",
    "                print(\"player one unable to declare war\")\n",
    "                print(\"player two WINS\")\n",
    "                game_on=False\n",
    "                break\n",
    "\n",
    "            elif len(player_two.all_cards)<5:\n",
    "                print(\"player two unable to declare war\")\n",
    "                print(\"player one WINS\")\n",
    "                game_on=False\n",
    "                break\n",
    "            else:\n",
    "                for num in range(5):\n",
    "                    player_one_cards.append(player_one.remove_one())\n",
    "                    player_two_cards.append(player_two.remove_one())"
   ]
  },
  {
   "cell_type": "code",
   "execution_count": null,
   "id": "b684352d-d010-4d76-8765-2017074d902c",
   "metadata": {},
   "outputs": [],
   "source": []
  },
  {
   "cell_type": "code",
   "execution_count": null,
   "id": "8198735b-b831-4581-8918-1798957d2b97",
   "metadata": {},
   "outputs": [],
   "source": []
  },
  {
   "cell_type": "code",
   "execution_count": null,
   "id": "38ac09eb-ddaa-40cd-bcce-e2c1b7b3fa5a",
   "metadata": {},
   "outputs": [],
   "source": []
  }
 ],
 "metadata": {
  "kernelspec": {
   "display_name": "Python 3 (ipykernel)",
   "language": "python",
   "name": "python3"
  },
  "language_info": {
   "codemirror_mode": {
    "name": "ipython",
    "version": 3
   },
   "file_extension": ".py",
   "mimetype": "text/x-python",
   "name": "python",
   "nbconvert_exporter": "python",
   "pygments_lexer": "ipython3",
   "version": "3.12.7"
  }
 },
 "nbformat": 4,
 "nbformat_minor": 5
}
